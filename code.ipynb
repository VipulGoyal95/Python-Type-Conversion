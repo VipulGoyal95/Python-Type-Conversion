{
 "cells": [
  {
   "cell_type": "code",
   "execution_count": 4,
   "metadata": {},
   "outputs": [
    {
     "name": "stdout",
     "output_type": "stream",
     "text": [
      "10.0\n",
      "<class 'float'>\n"
     ]
    }
   ],
   "source": [
    "#1 Convert an integer to a floating-point number.\n",
    "num = 10\n",
    "float_num = float(num)\n",
    "print(float_num)\n",
    "print(type(float_num))"
   ]
  },
  {
   "cell_type": "code",
   "execution_count": 3,
   "metadata": {},
   "outputs": [
    {
     "name": "stdout",
     "output_type": "stream",
     "text": [
      "24\n",
      "<class 'int'>\n"
     ]
    }
   ],
   "source": [
    "#2.Convert a float to an integer.\n",
    "float_num2 = 24.5\n",
    "integer_num = int(float_num2)\n",
    "print(integer_num)\n",
    "print(type(integer_num))"
   ]
  },
  {
   "cell_type": "code",
   "execution_count": 5,
   "metadata": {},
   "outputs": [
    {
     "name": "stdout",
     "output_type": "stream",
     "text": [
      "100\n",
      "<class 'str'>\n"
     ]
    }
   ],
   "source": [
    "# 3.Convert an integer to a string.\n",
    "num = 100\n",
    "str_num = str(num)\n",
    "print(str_num)\n",
    "print(type(str_num))"
   ]
  },
  {
   "cell_type": "code",
   "execution_count": 6,
   "metadata": {},
   "outputs": [
    {
     "name": "stdout",
     "output_type": "stream",
     "text": [
      "(1, 2, 3, 4, 5)\n",
      "<class 'tuple'>\n"
     ]
    }
   ],
   "source": [
    "# 4.Convert a list to a tuple.\n",
    "mylist = [1,2,3,4,5]\n",
    "mytuple = tuple(mylist)\n",
    "print(mytuple)\n",
    "print(type(mytuple))"
   ]
  },
  {
   "cell_type": "code",
   "execution_count": 7,
   "metadata": {},
   "outputs": [
    {
     "name": "stdout",
     "output_type": "stream",
     "text": [
      "[1, 2, 3, 4, 5]\n",
      "<class 'list'>\n"
     ]
    }
   ],
   "source": [
    "# 5.Convert a tuple to a list.\n",
    "mytyple2 = (1,2,3,4,5)\n",
    "mylist2 = list(mytyple2)\n",
    "print(mylist2)\n",
    "print(type(mylist2))"
   ]
  },
  {
   "cell_type": "code",
   "execution_count": 9,
   "metadata": {},
   "outputs": [
    {
     "name": "stdout",
     "output_type": "stream",
     "text": [
      "0b11001\n",
      "11001\n"
     ]
    }
   ],
   "source": [
    "# 6.Convert a decimal number to binary.\n",
    "num = 25\n",
    "binary_num = bin(num)\n",
    "print(binary_num)\n",
    "print(binary_num[2:])"
   ]
  },
  {
   "cell_type": "code",
   "execution_count": 10,
   "metadata": {},
   "outputs": [
    {
     "name": "stdout",
     "output_type": "stream",
     "text": [
      "True\n"
     ]
    }
   ],
   "source": [
    "# 7.Convert a non-zero number to boolean.\n",
    "num = 25\n",
    "bool_value = bool(num)\n",
    "print(bool_value)"
   ]
  }
 ],
 "metadata": {
  "kernelspec": {
   "display_name": "Python 3",
   "language": "python",
   "name": "python3"
  },
  "language_info": {
   "codemirror_mode": {
    "name": "ipython",
    "version": 3
   },
   "file_extension": ".py",
   "mimetype": "text/x-python",
   "name": "python",
   "nbconvert_exporter": "python",
   "pygments_lexer": "ipython3",
   "version": "3.12.4"
  }
 },
 "nbformat": 4,
 "nbformat_minor": 2
}
